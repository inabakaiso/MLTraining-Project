{
 "cells": [
  {
   "cell_type": "code",
   "execution_count": 1,
   "metadata": {
    "collapsed": true
   },
   "outputs": [],
   "source": [
    "import pandas as pd\n",
    "import numpy as np\n",
    "from matplotlib import pyplot as plt"
   ]
  },
  {
   "cell_type": "code",
   "execution_count": 2,
   "outputs": [],
   "source": [
    "mapping = {\n",
    "    \"Freezing\": 0,\n",
    "    \"Warm\": 1,\n",
    "    \"Cold\": 2,\n",
    "    \"Bolling Hot\": 3,\n",
    "    \"Hot\": 4,\n",
    "    \"Lava Hot\": 5\n",
    "}\n",
    "\n",
    "df = pd.read_csv('train.csv')\n",
    "df.loc[:, \"ord_2\"] = df.ord_2.map(mapping)"
   ],
   "metadata": {
    "collapsed": false,
    "pycharm": {
     "name": "#%%\n"
    }
   }
  },
  {
   "cell_type": "code",
   "execution_count": 4,
   "outputs": [
    {
     "data": {
      "text/plain": "0.0    142726\n1.0    124239\n2.0     97822\n4.0     67508\n5.0     64840\nName: ord_2, dtype: int64"
     },
     "execution_count": 4,
     "metadata": {},
     "output_type": "execute_result"
    }
   ],
   "source": [
    "df.ord_2.value_counts()"
   ],
   "metadata": {
    "collapsed": false,
    "pycharm": {
     "name": "#%%\n"
    }
   }
  },
  {
   "cell_type": "code",
   "execution_count": 6,
   "outputs": [],
   "source": [
    "df[\"ord_2_count\"] = df.groupby([\"ord_2\"])[\"id\"].transform(\"count\")"
   ],
   "metadata": {
    "collapsed": false,
    "pycharm": {
     "name": "#%%\n"
    }
   }
  },
  {
   "cell_type": "code",
   "execution_count": 7,
   "outputs": [
    {
     "data": {
      "text/plain": "            id  bin_0  bin_1  bin_2 bin_3 bin_4 nom_0      nom_1    nom_2  \\\n0            0    0.0    0.0    0.0     F     N   Red  Trapezoid  Hamster   \n1            1    1.0    1.0    0.0     F     Y   Red       Star  Axolotl   \n2            2    0.0    1.0    0.0     F     N   Red        NaN  Hamster   \n3            3    NaN    0.0    0.0     F     N   Red     Circle  Hamster   \n4            4    0.0    NaN    0.0     T     N   Red   Triangle  Hamster   \n...        ...    ...    ...    ...   ...   ...   ...        ...      ...   \n599995  599995    0.0    1.0    0.0     T     N   Red    Polygon  Axolotl   \n599996  599996    1.0    0.0    0.0     T     Y  Blue    Polygon      Dog   \n599997  599997    0.0    0.0    0.0     F     Y   Red     Circle  Axolotl   \n599998  599998    1.0    1.0    0.0     F     Y   NaN    Polygon  Axolotl   \n599999  599999    0.0    0.0    0.0     T     N  Blue   Triangle      Dog   \n\n             nom_3  ... ord_0        ord_1 ord_2 ord_3 ord_4 ord_5  day month  \\\n0           Russia  ...   3.0  Contributor   4.0     c     U    Pw  6.0   3.0   \n1              NaN  ...   3.0  Grandmaster   1.0     e     X    pE  7.0   7.0   \n2           Canada  ...   3.0          NaN   0.0     n     P    eN  5.0   9.0   \n3          Finland  ...   1.0       Novice   5.0     a     C   NaN  3.0   3.0   \n4       Costa Rica  ...   3.0  Grandmaster   2.0     h     C    OZ  5.0  12.0   \n...            ...  ...   ...          ...   ...   ...   ...   ...  ...   ...   \n599995       India  ...   3.0       Novice   0.0     a     R    GZ  5.0   NaN   \n599996  Costa Rica  ...   2.0       Novice   NaN     n     N    sf  NaN   3.0   \n599997      Russia  ...   2.0  Contributor   0.0     n     H    MV  7.0   5.0   \n599998         NaN  ...   1.0       Master   1.0     m     X    Ey  1.0   5.0   \n599999      Russia  ...   1.0  Contributor   NaN     b     O    uI  5.0   8.0   \n\n        target ord_2_count  \n0            0     67508.0  \n1            0    124239.0  \n2            0    142726.0  \n3            0     64840.0  \n4            0     97822.0  \n...        ...         ...  \n599995       0    142726.0  \n599996       0         NaN  \n599997       0    142726.0  \n599998       0    124239.0  \n599999       0         NaN  \n\n[600000 rows x 26 columns]",
      "text/html": "<div>\n<style scoped>\n    .dataframe tbody tr th:only-of-type {\n        vertical-align: middle;\n    }\n\n    .dataframe tbody tr th {\n        vertical-align: top;\n    }\n\n    .dataframe thead th {\n        text-align: right;\n    }\n</style>\n<table border=\"1\" class=\"dataframe\">\n  <thead>\n    <tr style=\"text-align: right;\">\n      <th></th>\n      <th>id</th>\n      <th>bin_0</th>\n      <th>bin_1</th>\n      <th>bin_2</th>\n      <th>bin_3</th>\n      <th>bin_4</th>\n      <th>nom_0</th>\n      <th>nom_1</th>\n      <th>nom_2</th>\n      <th>nom_3</th>\n      <th>...</th>\n      <th>ord_0</th>\n      <th>ord_1</th>\n      <th>ord_2</th>\n      <th>ord_3</th>\n      <th>ord_4</th>\n      <th>ord_5</th>\n      <th>day</th>\n      <th>month</th>\n      <th>target</th>\n      <th>ord_2_count</th>\n    </tr>\n  </thead>\n  <tbody>\n    <tr>\n      <th>0</th>\n      <td>0</td>\n      <td>0.0</td>\n      <td>0.0</td>\n      <td>0.0</td>\n      <td>F</td>\n      <td>N</td>\n      <td>Red</td>\n      <td>Trapezoid</td>\n      <td>Hamster</td>\n      <td>Russia</td>\n      <td>...</td>\n      <td>3.0</td>\n      <td>Contributor</td>\n      <td>4.0</td>\n      <td>c</td>\n      <td>U</td>\n      <td>Pw</td>\n      <td>6.0</td>\n      <td>3.0</td>\n      <td>0</td>\n      <td>67508.0</td>\n    </tr>\n    <tr>\n      <th>1</th>\n      <td>1</td>\n      <td>1.0</td>\n      <td>1.0</td>\n      <td>0.0</td>\n      <td>F</td>\n      <td>Y</td>\n      <td>Red</td>\n      <td>Star</td>\n      <td>Axolotl</td>\n      <td>NaN</td>\n      <td>...</td>\n      <td>3.0</td>\n      <td>Grandmaster</td>\n      <td>1.0</td>\n      <td>e</td>\n      <td>X</td>\n      <td>pE</td>\n      <td>7.0</td>\n      <td>7.0</td>\n      <td>0</td>\n      <td>124239.0</td>\n    </tr>\n    <tr>\n      <th>2</th>\n      <td>2</td>\n      <td>0.0</td>\n      <td>1.0</td>\n      <td>0.0</td>\n      <td>F</td>\n      <td>N</td>\n      <td>Red</td>\n      <td>NaN</td>\n      <td>Hamster</td>\n      <td>Canada</td>\n      <td>...</td>\n      <td>3.0</td>\n      <td>NaN</td>\n      <td>0.0</td>\n      <td>n</td>\n      <td>P</td>\n      <td>eN</td>\n      <td>5.0</td>\n      <td>9.0</td>\n      <td>0</td>\n      <td>142726.0</td>\n    </tr>\n    <tr>\n      <th>3</th>\n      <td>3</td>\n      <td>NaN</td>\n      <td>0.0</td>\n      <td>0.0</td>\n      <td>F</td>\n      <td>N</td>\n      <td>Red</td>\n      <td>Circle</td>\n      <td>Hamster</td>\n      <td>Finland</td>\n      <td>...</td>\n      <td>1.0</td>\n      <td>Novice</td>\n      <td>5.0</td>\n      <td>a</td>\n      <td>C</td>\n      <td>NaN</td>\n      <td>3.0</td>\n      <td>3.0</td>\n      <td>0</td>\n      <td>64840.0</td>\n    </tr>\n    <tr>\n      <th>4</th>\n      <td>4</td>\n      <td>0.0</td>\n      <td>NaN</td>\n      <td>0.0</td>\n      <td>T</td>\n      <td>N</td>\n      <td>Red</td>\n      <td>Triangle</td>\n      <td>Hamster</td>\n      <td>Costa Rica</td>\n      <td>...</td>\n      <td>3.0</td>\n      <td>Grandmaster</td>\n      <td>2.0</td>\n      <td>h</td>\n      <td>C</td>\n      <td>OZ</td>\n      <td>5.0</td>\n      <td>12.0</td>\n      <td>0</td>\n      <td>97822.0</td>\n    </tr>\n    <tr>\n      <th>...</th>\n      <td>...</td>\n      <td>...</td>\n      <td>...</td>\n      <td>...</td>\n      <td>...</td>\n      <td>...</td>\n      <td>...</td>\n      <td>...</td>\n      <td>...</td>\n      <td>...</td>\n      <td>...</td>\n      <td>...</td>\n      <td>...</td>\n      <td>...</td>\n      <td>...</td>\n      <td>...</td>\n      <td>...</td>\n      <td>...</td>\n      <td>...</td>\n      <td>...</td>\n      <td>...</td>\n    </tr>\n    <tr>\n      <th>599995</th>\n      <td>599995</td>\n      <td>0.0</td>\n      <td>1.0</td>\n      <td>0.0</td>\n      <td>T</td>\n      <td>N</td>\n      <td>Red</td>\n      <td>Polygon</td>\n      <td>Axolotl</td>\n      <td>India</td>\n      <td>...</td>\n      <td>3.0</td>\n      <td>Novice</td>\n      <td>0.0</td>\n      <td>a</td>\n      <td>R</td>\n      <td>GZ</td>\n      <td>5.0</td>\n      <td>NaN</td>\n      <td>0</td>\n      <td>142726.0</td>\n    </tr>\n    <tr>\n      <th>599996</th>\n      <td>599996</td>\n      <td>1.0</td>\n      <td>0.0</td>\n      <td>0.0</td>\n      <td>T</td>\n      <td>Y</td>\n      <td>Blue</td>\n      <td>Polygon</td>\n      <td>Dog</td>\n      <td>Costa Rica</td>\n      <td>...</td>\n      <td>2.0</td>\n      <td>Novice</td>\n      <td>NaN</td>\n      <td>n</td>\n      <td>N</td>\n      <td>sf</td>\n      <td>NaN</td>\n      <td>3.0</td>\n      <td>0</td>\n      <td>NaN</td>\n    </tr>\n    <tr>\n      <th>599997</th>\n      <td>599997</td>\n      <td>0.0</td>\n      <td>0.0</td>\n      <td>0.0</td>\n      <td>F</td>\n      <td>Y</td>\n      <td>Red</td>\n      <td>Circle</td>\n      <td>Axolotl</td>\n      <td>Russia</td>\n      <td>...</td>\n      <td>2.0</td>\n      <td>Contributor</td>\n      <td>0.0</td>\n      <td>n</td>\n      <td>H</td>\n      <td>MV</td>\n      <td>7.0</td>\n      <td>5.0</td>\n      <td>0</td>\n      <td>142726.0</td>\n    </tr>\n    <tr>\n      <th>599998</th>\n      <td>599998</td>\n      <td>1.0</td>\n      <td>1.0</td>\n      <td>0.0</td>\n      <td>F</td>\n      <td>Y</td>\n      <td>NaN</td>\n      <td>Polygon</td>\n      <td>Axolotl</td>\n      <td>NaN</td>\n      <td>...</td>\n      <td>1.0</td>\n      <td>Master</td>\n      <td>1.0</td>\n      <td>m</td>\n      <td>X</td>\n      <td>Ey</td>\n      <td>1.0</td>\n      <td>5.0</td>\n      <td>0</td>\n      <td>124239.0</td>\n    </tr>\n    <tr>\n      <th>599999</th>\n      <td>599999</td>\n      <td>0.0</td>\n      <td>0.0</td>\n      <td>0.0</td>\n      <td>T</td>\n      <td>N</td>\n      <td>Blue</td>\n      <td>Triangle</td>\n      <td>Dog</td>\n      <td>Russia</td>\n      <td>...</td>\n      <td>1.0</td>\n      <td>Contributor</td>\n      <td>NaN</td>\n      <td>b</td>\n      <td>O</td>\n      <td>uI</td>\n      <td>5.0</td>\n      <td>8.0</td>\n      <td>0</td>\n      <td>NaN</td>\n    </tr>\n  </tbody>\n</table>\n<p>600000 rows × 26 columns</p>\n</div>"
     },
     "execution_count": 7,
     "metadata": {},
     "output_type": "execute_result"
    }
   ],
   "source": [
    "df"
   ],
   "metadata": {
    "collapsed": false,
    "pycharm": {
     "name": "#%%\n"
    }
   }
  },
  {
   "cell_type": "code",
   "execution_count": 8,
   "outputs": [],
   "source": [
    "df.ord_4 = df.ord_4.fillna('NONE')\n",
    "df.loc[\n",
    "    df[\"ord_4\"].value_counts()[df[\"ord_4\"]].values < 2000,\n",
    "    \"ord_4\"\n",
    "] = \"RARE\""
   ],
   "metadata": {
    "collapsed": false,
    "pycharm": {
     "name": "#%%\n"
    }
   }
  },
  {
   "cell_type": "code",
   "execution_count": 9,
   "outputs": [
    {
     "data": {
      "text/plain": "N       39978\nP       37890\nY       36657\nA       36633\nR       33045\nU       32897\nM       32504\nX       32347\nC       32112\nH       31189\nQ       30145\nT       29723\nO       25610\nB       25212\nE       21871\nK       21676\nI       19805\nNONE    17930\nD       17284\nF       16721\nW        8268\nZ        5790\nS        4595\nRARE     3607\nG        3404\nV        3107\nName: ord_4, dtype: int64"
     },
     "execution_count": 9,
     "metadata": {},
     "output_type": "execute_result"
    }
   ],
   "source": [
    "df.ord_4.value_counts()"
   ],
   "metadata": {
    "collapsed": false,
    "pycharm": {
     "name": "#%%\n"
    }
   }
  },
  {
   "cell_type": "code",
   "execution_count": null,
   "outputs": [],
   "source": [],
   "metadata": {
    "collapsed": false,
    "pycharm": {
     "name": "#%%\n"
    }
   }
  }
 ],
 "metadata": {
  "kernelspec": {
   "display_name": "Python 3",
   "language": "python",
   "name": "python3"
  },
  "language_info": {
   "codemirror_mode": {
    "name": "ipython",
    "version": 2
   },
   "file_extension": ".py",
   "mimetype": "text/x-python",
   "name": "python",
   "nbconvert_exporter": "python",
   "pygments_lexer": "ipython2",
   "version": "2.7.6"
  }
 },
 "nbformat": 4,
 "nbformat_minor": 0
}